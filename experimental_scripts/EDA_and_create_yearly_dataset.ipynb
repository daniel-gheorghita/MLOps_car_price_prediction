{
 "cells": [
  {
   "cell_type": "markdown",
   "id": "ed86df39",
   "metadata": {},
   "source": [
    "# Quick dataset exploration and preprocessing\n",
    "Source: https://sites.google.com/site/frankverbo/data-and-software/data-set-on-the-european-car-market?authuser=0\n",
    "\n",
    "Preprocessing means a split of the dataset by years in order to later on simulate a continuous update of the model and data."
   ]
  },
  {
   "cell_type": "code",
   "execution_count": 19,
   "id": "612449ed",
   "metadata": {},
   "outputs": [],
   "source": [
    "import pandas as pd\n",
    "import os\n",
    "from matplotlib import pyplot as plt"
   ]
  },
  {
   "cell_type": "code",
   "execution_count": 20,
   "id": "35f65bcd",
   "metadata": {},
   "outputs": [],
   "source": [
    "data_folder = '../data/raw/'\n",
    "dataset_file = 'cars.xlsx'"
   ]
  },
  {
   "cell_type": "code",
   "execution_count": 21,
   "id": "779b4c40",
   "metadata": {},
   "outputs": [
    {
     "data": {
      "text/plain": [
       "ye          int64\n",
       "ma          int64\n",
       "co          int64\n",
       "zcode       int64\n",
       "brd         int64\n",
       "type       object\n",
       "brand      object\n",
       "model      object\n",
       "org         int64\n",
       "loc         int64\n",
       "cla         int64\n",
       "home        int64\n",
       "frm         int64\n",
       "qu          int64\n",
       "cy        float64\n",
       "hp        float64\n",
       "we          int64\n",
       "pl        float64\n",
       "do        float64\n",
       "le        float64\n",
       "wi        float64\n",
       "he        float64\n",
       "li1       float64\n",
       "li2       float64\n",
       "li3       float64\n",
       "li        float64\n",
       "sp        float64\n",
       "ac        float64\n",
       "pr        float64\n",
       "princ     float64\n",
       "eurpr     float64\n",
       "exppr     float64\n",
       "avexr     float64\n",
       "avdexr    float64\n",
       "avcpr     float64\n",
       "avppr     float64\n",
       "avdcpr    float64\n",
       "avdppr    float64\n",
       "xexr      float64\n",
       "tax       float64\n",
       "pop         int64\n",
       "ngdp        int64\n",
       "rgdp      float64\n",
       "engdp       int64\n",
       "ergdp     float64\n",
       "engdpc    float64\n",
       "ergdpc    float64\n",
       "dtype: object"
      ]
     },
     "execution_count": 21,
     "metadata": {},
     "output_type": "execute_result"
    }
   ],
   "source": [
    "df_original = pd.read_excel(os.path.join(data_folder, dataset_file))\n",
    "df_original.dtypes"
   ]
  },
  {
   "cell_type": "code",
   "execution_count": 22,
   "id": "a4d4cf86",
   "metadata": {},
   "outputs": [],
   "source": [
    "df = df_original[['ye', 'brand', 'model', 'hp', 'li', 'pl', 'do', 'le', 'wi', 'he', 'sp', 'ac', 'eurpr']]\n",
    "df = df.rename(columns={\"ye\": \"year\", \"hp\": \"horsepower\", \"li\":\"consumption\", \"pl\":\"places\", \"do\":\"doors\", \"le\":\"length\", \"wi\":\"width\",\n",
    "                  \"he\":\"height\", \"sp\":\"speed\",\"ac\":\"acceleration\", \"eurpr\":\"price_eur\"})\n",
    "df['year'] = df['year'] + 1900"
   ]
  },
  {
   "cell_type": "code",
   "execution_count": 23,
   "id": "aeab0e89",
   "metadata": {},
   "outputs": [
    {
     "data": {
      "text/html": [
       "<div>\n",
       "<style scoped>\n",
       "    .dataframe tbody tr th:only-of-type {\n",
       "        vertical-align: middle;\n",
       "    }\n",
       "\n",
       "    .dataframe tbody tr th {\n",
       "        vertical-align: top;\n",
       "    }\n",
       "\n",
       "    .dataframe thead th {\n",
       "        text-align: right;\n",
       "    }\n",
       "</style>\n",
       "<table border=\"1\" class=\"dataframe\">\n",
       "  <thead>\n",
       "    <tr style=\"text-align: right;\">\n",
       "      <th></th>\n",
       "      <th>year</th>\n",
       "      <th>horsepower</th>\n",
       "      <th>consumption</th>\n",
       "      <th>places</th>\n",
       "      <th>doors</th>\n",
       "      <th>length</th>\n",
       "      <th>width</th>\n",
       "      <th>height</th>\n",
       "      <th>speed</th>\n",
       "      <th>acceleration</th>\n",
       "      <th>price_eur</th>\n",
       "    </tr>\n",
       "  </thead>\n",
       "  <tbody>\n",
       "    <tr>\n",
       "      <th>count</th>\n",
       "      <td>11549.000000</td>\n",
       "      <td>11549.000000</td>\n",
       "      <td>11549.000000</td>\n",
       "      <td>11549.000000</td>\n",
       "      <td>11547.000000</td>\n",
       "      <td>11549.000000</td>\n",
       "      <td>11549.000000</td>\n",
       "      <td>11549.000000</td>\n",
       "      <td>11545.000000</td>\n",
       "      <td>9232.000000</td>\n",
       "      <td>11549.000000</td>\n",
       "    </tr>\n",
       "    <tr>\n",
       "      <th>mean</th>\n",
       "      <td>1985.430946</td>\n",
       "      <td>57.141763</td>\n",
       "      <td>8.179929</td>\n",
       "      <td>4.869521</td>\n",
       "      <td>3.653061</td>\n",
       "      <td>415.827344</td>\n",
       "      <td>164.379971</td>\n",
       "      <td>140.432462</td>\n",
       "      <td>159.915418</td>\n",
       "      <td>15.241356</td>\n",
       "      <td>8352.518814</td>\n",
       "    </tr>\n",
       "    <tr>\n",
       "      <th>std</th>\n",
       "      <td>8.534300</td>\n",
       "      <td>23.884423</td>\n",
       "      <td>1.715343</td>\n",
       "      <td>0.379587</td>\n",
       "      <td>0.896480</td>\n",
       "      <td>44.386449</td>\n",
       "      <td>9.618415</td>\n",
       "      <td>4.623248</td>\n",
       "      <td>23.802716</td>\n",
       "      <td>5.232542</td>\n",
       "      <td>5540.922831</td>\n",
       "    </tr>\n",
       "    <tr>\n",
       "      <th>min</th>\n",
       "      <td>1970.000000</td>\n",
       "      <td>13.000000</td>\n",
       "      <td>4.000000</td>\n",
       "      <td>2.000000</td>\n",
       "      <td>2.000000</td>\n",
       "      <td>250.000000</td>\n",
       "      <td>122.000000</td>\n",
       "      <td>117.500000</td>\n",
       "      <td>95.000000</td>\n",
       "      <td>7.500000</td>\n",
       "      <td>830.667603</td>\n",
       "    </tr>\n",
       "    <tr>\n",
       "      <th>25%</th>\n",
       "      <td>1978.000000</td>\n",
       "      <td>40.000000</td>\n",
       "      <td>6.933333</td>\n",
       "      <td>5.000000</td>\n",
       "      <td>3.000000</td>\n",
       "      <td>384.000000</td>\n",
       "      <td>159.000000</td>\n",
       "      <td>138.000000</td>\n",
       "      <td>145.000000</td>\n",
       "      <td>12.000000</td>\n",
       "      <td>4370.087402</td>\n",
       "    </tr>\n",
       "    <tr>\n",
       "      <th>50%</th>\n",
       "      <td>1986.000000</td>\n",
       "      <td>54.500000</td>\n",
       "      <td>8.000000</td>\n",
       "      <td>5.000000</td>\n",
       "      <td>4.000000</td>\n",
       "      <td>421.500000</td>\n",
       "      <td>165.500000</td>\n",
       "      <td>140.000000</td>\n",
       "      <td>160.000000</td>\n",
       "      <td>14.100000</td>\n",
       "      <td>6944.484863</td>\n",
       "    </tr>\n",
       "    <tr>\n",
       "      <th>75%</th>\n",
       "      <td>1993.000000</td>\n",
       "      <td>73.000000</td>\n",
       "      <td>9.166667</td>\n",
       "      <td>5.000000</td>\n",
       "      <td>4.000000</td>\n",
       "      <td>451.000000</td>\n",
       "      <td>170.500000</td>\n",
       "      <td>142.500000</td>\n",
       "      <td>175.000000</td>\n",
       "      <td>17.000000</td>\n",
       "      <td>10779.138672</td>\n",
       "    </tr>\n",
       "    <tr>\n",
       "      <th>max</th>\n",
       "      <td>1999.000000</td>\n",
       "      <td>169.500000</td>\n",
       "      <td>18.600000</td>\n",
       "      <td>7.000000</td>\n",
       "      <td>5.000000</td>\n",
       "      <td>506.000000</td>\n",
       "      <td>188.000000</td>\n",
       "      <td>173.500000</td>\n",
       "      <td>247.000000</td>\n",
       "      <td>50.000000</td>\n",
       "      <td>49580.648438</td>\n",
       "    </tr>\n",
       "  </tbody>\n",
       "</table>\n",
       "</div>"
      ],
      "text/plain": [
       "               year    horsepower   consumption        places         doors  \\\n",
       "count  11549.000000  11549.000000  11549.000000  11549.000000  11547.000000   \n",
       "mean    1985.430946     57.141763      8.179929      4.869521      3.653061   \n",
       "std        8.534300     23.884423      1.715343      0.379587      0.896480   \n",
       "min     1970.000000     13.000000      4.000000      2.000000      2.000000   \n",
       "25%     1978.000000     40.000000      6.933333      5.000000      3.000000   \n",
       "50%     1986.000000     54.500000      8.000000      5.000000      4.000000   \n",
       "75%     1993.000000     73.000000      9.166667      5.000000      4.000000   \n",
       "max     1999.000000    169.500000     18.600000      7.000000      5.000000   \n",
       "\n",
       "             length         width        height         speed  acceleration  \\\n",
       "count  11549.000000  11549.000000  11549.000000  11545.000000   9232.000000   \n",
       "mean     415.827344    164.379971    140.432462    159.915418     15.241356   \n",
       "std       44.386449      9.618415      4.623248     23.802716      5.232542   \n",
       "min      250.000000    122.000000    117.500000     95.000000      7.500000   \n",
       "25%      384.000000    159.000000    138.000000    145.000000     12.000000   \n",
       "50%      421.500000    165.500000    140.000000    160.000000     14.100000   \n",
       "75%      451.000000    170.500000    142.500000    175.000000     17.000000   \n",
       "max      506.000000    188.000000    173.500000    247.000000     50.000000   \n",
       "\n",
       "          price_eur  \n",
       "count  11549.000000  \n",
       "mean    8352.518814  \n",
       "std     5540.922831  \n",
       "min      830.667603  \n",
       "25%     4370.087402  \n",
       "50%     6944.484863  \n",
       "75%    10779.138672  \n",
       "max    49580.648438  "
      ]
     },
     "execution_count": 23,
     "metadata": {},
     "output_type": "execute_result"
    }
   ],
   "source": [
    "df.describe()"
   ]
  },
  {
   "cell_type": "code",
   "execution_count": 24,
   "id": "debfec9a",
   "metadata": {},
   "outputs": [
    {
     "data": {
      "text/html": [
       "<div>\n",
       "<style scoped>\n",
       "    .dataframe tbody tr th:only-of-type {\n",
       "        vertical-align: middle;\n",
       "    }\n",
       "\n",
       "    .dataframe tbody tr th {\n",
       "        vertical-align: top;\n",
       "    }\n",
       "\n",
       "    .dataframe thead th {\n",
       "        text-align: right;\n",
       "    }\n",
       "</style>\n",
       "<table border=\"1\" class=\"dataframe\">\n",
       "  <thead>\n",
       "    <tr style=\"text-align: right;\">\n",
       "      <th></th>\n",
       "      <th>year</th>\n",
       "      <th>brand</th>\n",
       "      <th>model</th>\n",
       "      <th>horsepower</th>\n",
       "      <th>consumption</th>\n",
       "      <th>places</th>\n",
       "      <th>doors</th>\n",
       "      <th>length</th>\n",
       "      <th>width</th>\n",
       "      <th>height</th>\n",
       "      <th>speed</th>\n",
       "      <th>acceleration</th>\n",
       "      <th>price_eur</th>\n",
       "    </tr>\n",
       "  </thead>\n",
       "  <tbody>\n",
       "    <tr>\n",
       "      <th>0</th>\n",
       "      <td>1983</td>\n",
       "      <td>alfa romeo</td>\n",
       "      <td>33</td>\n",
       "      <td>58.0</td>\n",
       "      <td>7.766667</td>\n",
       "      <td>5.0</td>\n",
       "      <td>5.0</td>\n",
       "      <td>401.5</td>\n",
       "      <td>161.0</td>\n",
       "      <td>130.5</td>\n",
       "      <td>165.0</td>\n",
       "      <td>NaN</td>\n",
       "      <td>6078.426758</td>\n",
       "    </tr>\n",
       "    <tr>\n",
       "      <th>1</th>\n",
       "      <td>1984</td>\n",
       "      <td>alfa romeo</td>\n",
       "      <td>33</td>\n",
       "      <td>58.0</td>\n",
       "      <td>7.766667</td>\n",
       "      <td>5.0</td>\n",
       "      <td>5.0</td>\n",
       "      <td>401.5</td>\n",
       "      <td>161.0</td>\n",
       "      <td>130.5</td>\n",
       "      <td>165.0</td>\n",
       "      <td>11.5</td>\n",
       "      <td>5859.434082</td>\n",
       "    </tr>\n",
       "    <tr>\n",
       "      <th>2</th>\n",
       "      <td>1985</td>\n",
       "      <td>alfa romeo</td>\n",
       "      <td>33</td>\n",
       "      <td>58.0</td>\n",
       "      <td>7.766667</td>\n",
       "      <td>5.0</td>\n",
       "      <td>5.0</td>\n",
       "      <td>401.5</td>\n",
       "      <td>161.0</td>\n",
       "      <td>130.5</td>\n",
       "      <td>165.0</td>\n",
       "      <td>11.5</td>\n",
       "      <td>6126.146973</td>\n",
       "    </tr>\n",
       "    <tr>\n",
       "      <th>3</th>\n",
       "      <td>1986</td>\n",
       "      <td>alfa romeo</td>\n",
       "      <td>33</td>\n",
       "      <td>58.0</td>\n",
       "      <td>7.766667</td>\n",
       "      <td>5.0</td>\n",
       "      <td>5.0</td>\n",
       "      <td>401.5</td>\n",
       "      <td>161.0</td>\n",
       "      <td>134.5</td>\n",
       "      <td>167.0</td>\n",
       "      <td>11.5</td>\n",
       "      <td>6559.178223</td>\n",
       "    </tr>\n",
       "    <tr>\n",
       "      <th>4</th>\n",
       "      <td>1987</td>\n",
       "      <td>alfa romeo</td>\n",
       "      <td>33</td>\n",
       "      <td>58.0</td>\n",
       "      <td>7.933333</td>\n",
       "      <td>5.0</td>\n",
       "      <td>5.0</td>\n",
       "      <td>401.5</td>\n",
       "      <td>161.0</td>\n",
       "      <td>134.5</td>\n",
       "      <td>167.0</td>\n",
       "      <td>11.5</td>\n",
       "      <td>7272.066406</td>\n",
       "    </tr>\n",
       "  </tbody>\n",
       "</table>\n",
       "</div>"
      ],
      "text/plain": [
       "   year       brand model  horsepower  consumption  places  doors  length  \\\n",
       "0  1983  alfa romeo    33        58.0     7.766667     5.0    5.0   401.5   \n",
       "1  1984  alfa romeo    33        58.0     7.766667     5.0    5.0   401.5   \n",
       "2  1985  alfa romeo    33        58.0     7.766667     5.0    5.0   401.5   \n",
       "3  1986  alfa romeo    33        58.0     7.766667     5.0    5.0   401.5   \n",
       "4  1987  alfa romeo    33        58.0     7.933333     5.0    5.0   401.5   \n",
       "\n",
       "   width  height  speed  acceleration    price_eur  \n",
       "0  161.0   130.5  165.0           NaN  6078.426758  \n",
       "1  161.0   130.5  165.0          11.5  5859.434082  \n",
       "2  161.0   130.5  165.0          11.5  6126.146973  \n",
       "3  161.0   134.5  167.0          11.5  6559.178223  \n",
       "4  161.0   134.5  167.0          11.5  7272.066406  "
      ]
     },
     "execution_count": 24,
     "metadata": {},
     "output_type": "execute_result"
    }
   ],
   "source": [
    "df.head()"
   ]
  },
  {
   "cell_type": "code",
   "execution_count": 25,
   "id": "64ca7908",
   "metadata": {},
   "outputs": [
    {
     "data": {
      "text/plain": [
       "year              int64\n",
       "brand            object\n",
       "model            object\n",
       "horsepower      float64\n",
       "consumption     float64\n",
       "places          float64\n",
       "doors           float64\n",
       "length          float64\n",
       "width           float64\n",
       "height          float64\n",
       "speed           float64\n",
       "acceleration    float64\n",
       "price_eur       float64\n",
       "dtype: object"
      ]
     },
     "execution_count": 25,
     "metadata": {},
     "output_type": "execute_result"
    }
   ],
   "source": [
    "df.dtypes"
   ]
  },
  {
   "cell_type": "code",
   "execution_count": 26,
   "id": "a2d52550",
   "metadata": {},
   "outputs": [
    {
     "data": {
      "text/plain": [
       "renault        890\n",
       "fiat           886\n",
       "citroen        734\n",
       "rover          718\n",
       "opel           713\n",
       "peugeot        668\n",
       "ford           631\n",
       "VW             604\n",
       "nissan         480\n",
       "lancia         461\n",
       "toyota         459\n",
       "alfa romeo     443\n",
       "audi           398\n",
       "mazda          374\n",
       "volvo          358\n",
       "BMW            349\n",
       "honda          315\n",
       "mitsubishi     300\n",
       "mercedes       254\n",
       "seat           247\n",
       "talbot         219\n",
       "saab           196\n",
       "hyundai        161\n",
       "suzuki         125\n",
       "daihatsu       116\n",
       "tal/simca       85\n",
       "daewoo          66\n",
       "innocenti       57\n",
       "kia             54\n",
       "skoda           48\n",
       "subaru          29\n",
       "tal/matra       29\n",
       "yugo            28\n",
       "daf             28\n",
       "tal/hillman     17\n",
       "tal/sunb         4\n",
       "MCC              4\n",
       "simca            1\n",
       "Name: brand, dtype: int64"
      ]
     },
     "execution_count": 26,
     "metadata": {},
     "output_type": "execute_result"
    }
   ],
   "source": [
    "df['brand'].value_counts()"
   ]
  },
  {
   "cell_type": "code",
   "execution_count": 27,
   "id": "b979878d",
   "metadata": {},
   "outputs": [
    {
     "data": {
      "image/png": "[encoded data removed]",
      "text/plain": [
       "<Figure size 640x480 with 1 Axes>"
      ]
     },
     "metadata": {},
     "output_type": "display_data"
    }
   ],
   "source": [
    "df = df.sort_values(by=['year'])\n",
    "plt.plot(df[df['brand']=='VW']['price_eur'].values)\n",
    "plt.show()"
   ]
  },
  {
   "cell_type": "code",
   "execution_count": 28,
   "id": "25a80dc9",
   "metadata": {},
   "outputs": [
    {
     "name": "stderr",
     "output_type": "stream",
     "text": [
      "/var/folders/g6/svjv8tvx4xjbr97g7l2krybh0000gn/T/ipykernel_81750/3308615164.py:1: FutureWarning: The default value of numeric_only in DataFrameGroupBy.mean is deprecated. In a future version, numeric_only will default to False. Either specify numeric_only or select only columns which should be valid for the function.\n",
      "  plt.plot(df.groupby(['year']).mean()['price_eur'])\n"
     ]
    },
    {
     "data": {
      "image/png": "[encoded data removed]",
      "text/plain": [
       "<Figure size 640x480 with 1 Axes>"
      ]
     },
     "metadata": {},
     "output_type": "display_data"
    }
   ],
   "source": [
    "plt.plot(df.groupby(['year']).mean()['price_eur'])\n",
    "plt.show()"
   ]
  },
  {
   "cell_type": "code",
   "execution_count": 11,
   "id": "2f740b49",
   "metadata": {},
   "outputs": [
    {
     "name": "stdout",
     "output_type": "stream",
     "text": [
      "(2068, 6)\n",
      "(2068,)\n",
      "0.818407963487693\n",
      "[2457.15275824 2723.18982442 3143.87726349 ... 4335.28875299 4245.02154461\n",
      " 5785.76905624]\n"
     ]
    },
    {
     "data": {
      "image/png": "[encoded data removed]",
      "text/plain": [
       "<Figure size 640x480 with 1 Axes>"
      ]
     },
     "metadata": {},
     "output_type": "display_data"
    }
   ],
   "source": [
    "import numpy as np\n",
    "from sklearn.linear_model import LinearRegression\n",
    "from sklearn.ensemble import GradientBoostingRegressor\n",
    "feature_cols = ['horsepower','places', 'doors','speed', 'consumption', 'acceleration']\n",
    "#feature_cols = ['horsepower']\n",
    "\n",
    "target_col = 'price_eur'\n",
    "df=df.dropna().reset_index(drop=True)\n",
    "X = df[df['year']<80][feature_cols].values\n",
    "print(np.shape(X))\n",
    "y = df[df['year']<80][target_col].values\n",
    "print(np.shape(y))\n",
    "#reg = LinearRegression().fit(X, y)\n",
    "reg = GradientBoostingRegressor().fit(X, y)\n",
    "\n",
    "print(reg.score(X, y))\n",
    "#print(reg.coef_)\n",
    "#print(reg.intercept_)\n",
    "print(reg.predict(df[df['year']<85][feature_cols].values))\n",
    "plt.plot(reg.predict(df[df['year']<85][feature_cols].values),label='Predicted', alpha=0.5)\n",
    "plt.plot(df[df['year']<85][target_col].values,label='Measured', alpha=0.5)\n",
    "plt.legend()\n",
    "plt.show()"
   ]
  },
  {
   "cell_type": "code",
   "execution_count": 12,
   "id": "03b3ed7f",
   "metadata": {},
   "outputs": [],
   "source": [
    "#!pip install lazypredict \n",
    "#!pip install wheel\n",
    "#!conda install -c conda-forge lightgbm -y"
   ]
  },
  {
   "cell_type": "code",
   "execution_count": 13,
   "id": "522313ac",
   "metadata": {},
   "outputs": [
    {
     "data": {
      "text/plain": [
       "\"\\nfrom lazypredict.Supervised import LazyRegressor\\n\\nX_train = df_brussels[df_brussels['Year']<2020][['Day','Month']].values\\nX_test = df_brussels[df_brussels['Year']==2019][['Day','Month']].values\\ny_train = df_brussels[df_brussels['Year']<2020]['AvgTemperatureC'].values\\ny_test = df_brussels[df_brussels['Year']==2019]['AvgTemperatureC'].values\\nreg = LazyRegressor(verbose=0, ignore_warnings=True, custom_metric=None)\\nmodels, predictions = reg.fit(X_train, X_test, y_train, y_test)\\nprint(models)\\n\""
      ]
     },
     "execution_count": 13,
     "metadata": {},
     "output_type": "execute_result"
    }
   ],
   "source": [
    "'''\n",
    "from lazypredict.Supervised import LazyRegressor\n",
    "\n",
    "X_train = df_brussels[df_brussels['Year']<2020][['Day','Month']].values\n",
    "X_test = df_brussels[df_brussels['Year']==2019][['Day','Month']].values\n",
    "y_train = df_brussels[df_brussels['Year']<2020]['AvgTemperatureC'].values\n",
    "y_test = df_brussels[df_brussels['Year']==2019]['AvgTemperatureC'].values\n",
    "reg = LazyRegressor(verbose=0, ignore_warnings=True, custom_metric=None)\n",
    "models, predictions = reg.fit(X_train, X_test, y_train, y_test)\n",
    "print(models)\n",
    "'''"
   ]
  },
  {
   "cell_type": "code",
   "execution_count": 14,
   "id": "4ef8a318",
   "metadata": {},
   "outputs": [
    {
     "ename": "NameError",
     "evalue": "name 'df_brussels' is not defined",
     "output_type": "error",
     "traceback": [
      "\u001b[0;31m---------------------------------------------------------------------------\u001b[0m",
      "\u001b[0;31mNameError\u001b[0m                                 Traceback (most recent call last)",
      "Cell \u001b[0;32mIn[14], line 1\u001b[0m\n\u001b[0;32m----> 1\u001b[0m temps \u001b[38;5;241m=\u001b[39m \u001b[43mdf_brussels\u001b[49m[(df_brussels[\u001b[38;5;124m'\u001b[39m\u001b[38;5;124mYear\u001b[39m\u001b[38;5;124m'\u001b[39m]\u001b[38;5;241m==\u001b[39m\u001b[38;5;241m1995\u001b[39m) \u001b[38;5;241m&\u001b[39m (df_brussels[\u001b[38;5;124m'\u001b[39m\u001b[38;5;124mMonth\u001b[39m\u001b[38;5;124m'\u001b[39m]\u001b[38;5;241m<\u001b[39m\u001b[38;5;241m6\u001b[39m)][\u001b[38;5;124m'\u001b[39m\u001b[38;5;124mAvgTemperatureC\u001b[39m\u001b[38;5;124m'\u001b[39m]\u001b[38;5;241m.\u001b[39mvalues\u001b[38;5;241m.\u001b[39mcopy()\n\u001b[1;32m      2\u001b[0m timeseries_length \u001b[38;5;241m=\u001b[39m \u001b[38;5;241m10\u001b[39m\n\u001b[1;32m      3\u001b[0m X \u001b[38;5;241m=\u001b[39m np\u001b[38;5;241m.\u001b[39mlib\u001b[38;5;241m.\u001b[39mstride_tricks\u001b[38;5;241m.\u001b[39mas_strided(temps, (\u001b[38;5;28mlen\u001b[39m(temps)\u001b[38;5;241m-\u001b[39mtimeseries_length,timeseries_length), temps\u001b[38;5;241m.\u001b[39mstrides\u001b[38;5;241m*\u001b[39m\u001b[38;5;241m2\u001b[39m )\n",
      "\u001b[0;31mNameError\u001b[0m: name 'df_brussels' is not defined"
     ]
    }
   ],
   "source": [
    "temps = df_brussels[(df_brussels['Year']==1995) & (df_brussels['Month']<6)]['AvgTemperatureC'].values.copy()\n",
    "timeseries_length = 10\n",
    "X = np.lib.stride_tricks.as_strided(temps, (len(temps)-timeseries_length,timeseries_length), temps.strides*2 )\n",
    "X_train = np.array(X)[:,:-1]\n",
    "y_train = np.array(X)[:,-1]\n",
    "\n",
    "reg = LinearRegression().fit(X_train, y_train)\n",
    "print(reg.score(X_train, y_train))\n",
    "print(reg.coef_)\n",
    "print(reg.intercept_)\n",
    "\n",
    "temps = df_brussels[df_brussels['Year']==2019]['AvgTemperatureC'].values.copy()\n",
    "X = np.lib.stride_tricks.as_strided(temps, (len(temps)-timeseries_length,timeseries_length), temps.strides*2 )\n",
    "X_test = np.array(X)[:,:-1]\n",
    "y_test = np.array(X)[:,-1]\n",
    "\n",
    "plt.plot(reg.predict(X_test),label='Predicted')\n",
    "plt.plot(y_test,label='Measured')\n",
    "plt.legend()\n",
    "plt.show()"
   ]
  },
  {
   "cell_type": "markdown",
   "id": "1dcd095a",
   "metadata": {},
   "source": [
    "# Create yearly dataset"
   ]
  },
  {
   "cell_type": "code",
   "execution_count": 30,
   "id": "1ac9d640",
   "metadata": {},
   "outputs": [
    {
     "name": "stdout",
     "output_type": "stream",
     "text": [
      "1999\n",
      "1998\n",
      "1996\n",
      "1997\n",
      "1995\n",
      "1983\n",
      "1993\n",
      "1994\n",
      "1991\n",
      "1984\n",
      "1985\n",
      "1992\n",
      "1988\n",
      "1990\n",
      "1986\n",
      "1989\n",
      "1987\n",
      "1981\n",
      "1982\n",
      "1980\n",
      "1978\n",
      "1979\n",
      "1977\n",
      "1972\n",
      "1976\n",
      "1974\n",
      "1975\n",
      "1973\n",
      "1971\n",
      "1970\n"
     ]
    }
   ],
   "source": [
    "for year in df['year'].value_counts().index:\n",
    "    print(year)\n",
    "    df[df['year'] == year].to_csv(os.path.join('../data/yearly', f'{year}.csv'), index=False)"
   ]
  },
  {
   "cell_type": "code",
   "execution_count": null,
   "id": "7781212d",
   "metadata": {},
   "outputs": [],
   "source": []
  }
 ],
 "metadata": {
  "kernelspec": {
   "display_name": "Python 3 (ipykernel)",
   "language": "python",
   "name": "python3"
  },
  "language_info": {
   "codemirror_mode": {
    "name": "ipython",
    "version": 3
   },
   "file_extension": ".py",
   "mimetype": "text/x-python",
   "name": "python",
   "nbconvert_exporter": "python",
   "pygments_lexer": "ipython3",
   "version": "3.8.16"
  }
 },
 "nbformat": 4,
 "nbformat_minor": 5
}
