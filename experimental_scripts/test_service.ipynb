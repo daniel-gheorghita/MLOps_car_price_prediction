{
 "cells": [
  {
   "cell_type": "code",
   "execution_count": null,
   "id": "0ee786d1-bfd5-4f12-b1fd-859d0d300c5c",
   "metadata": {},
   "outputs": [],
   "source": [
    "import json\n",
    "import requests\n",
    "\n",
    "url = 'http://0.0.0.0:8080/predict2'\n",
    "feature_cols = ['horsepower','places', 'doors','speed', 'consumption', 'acceleration']\n",
    "\n",
    "myobj = {'horsepower':[100, 50],'places':[5, 5], 'doors':[5, 5],'speed':[190, 150], 'consumption':[10, 12], 'acceleration':[12, 18] }\n",
    "\n",
    "x = requests.post(url, json = myobj)\n",
    "print(x)\n",
    "print(x.text)\n",
    "\n",
    "try:\n",
    "    print(json.loads(x.text))\n",
    "    assert True\n",
    "except:\n",
    "    assert False\n"
   ]
  }
 ],
 "metadata": {
  "kernelspec": {
   "display_name": "Python 3 (ipykernel)",
   "language": "python",
   "name": "python3"
  },
  "language_info": {
   "codemirror_mode": {
    "name": "ipython",
    "version": 3
   },
   "file_extension": ".py",
   "mimetype": "text/x-python",
   "name": "python",
   "nbconvert_exporter": "python",
   "pygments_lexer": "ipython3",
   "version": "3.8.16"
  }
 },
 "nbformat": 4,
 "nbformat_minor": 5
}
