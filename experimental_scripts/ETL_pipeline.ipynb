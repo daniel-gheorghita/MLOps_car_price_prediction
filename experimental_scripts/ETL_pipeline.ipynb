{
 "cells": [
  {
   "cell_type": "code",
   "execution_count": 18,
   "id": "a844b6d9-10d4-4776-af7e-c008cf96ae6a",
   "metadata": {},
   "outputs": [],
   "source": [
    "import pandas as pd\n",
    "import os\n",
    "import glob\n",
    "from matplotlib import pyplot as plt\n",
    "import numpy as np\n",
    "from time import sleep, time\n",
    "from pprint import pprint\n",
    "from prefect import flow, task"
   ]
  },
  {
   "cell_type": "code",
   "execution_count": 19,
   "id": "54ef4395-3b17-4448-acee-fbe4546184ec",
   "metadata": {},
   "outputs": [],
   "source": [
    "EXTERNAL_DATA_PATH = './data/yearly'\n",
    "AVAILABLE_DATA_PATH = './data/available'"
   ]
  },
  {
   "cell_type": "code",
   "execution_count": 22,
   "id": "3a70118e-9024-47da-80ab-ff1b62bdec91",
   "metadata": {},
   "outputs": [
    {
     "name": "stderr",
     "output_type": "stream",
     "text": [
      "/usr/local/lib/python3.8/site-packages/prefect/tasks.py:326: UserWarning: A task named 'get_new_dataset' and defined at '/tmp/ipykernel_218/2812644309.py:5' conflicts with another task. Consider specifying a unique `name` parameter in the task definition:\n",
      "\n",
      " `@task(name='my_unique_name', ...)`\n",
      "  warnings.warn(\n",
      "/usr/local/lib/python3.8/site-packages/prefect/tasks.py:326: UserWarning: A task named 'get_latest_available_data_year' and defined at '/tmp/ipykernel_218/2812644309.py:28' conflicts with another task. Consider specifying a unique `name` parameter in the task definition:\n",
      "\n",
      " `@task(name='my_unique_name', ...)`\n",
      "  warnings.warn(\n",
      "/usr/local/lib/python3.8/site-packages/prefect/tasks.py:326: UserWarning: A task named 'store_data' and defined at '/tmp/ipykernel_218/2812644309.py:38' conflicts with another task. Consider specifying a unique `name` parameter in the task definition:\n",
      "\n",
      " `@task(name='my_unique_name', ...)`\n",
      "  warnings.warn(\n",
      "/usr/local/lib/python3.8/site-packages/prefect/flows.py:273: UserWarning: A flow named 'main-data-flow' and defined at '/tmp/ipykernel_218/2812644309.py:43' conflicts with another flow. Consider specifying a unique `name` parameter in the flow definition:\n",
      "\n",
      " `@flow(name='my_unique_name', ...)`\n",
      "  warnings.warn(\n"
     ]
    }
   ],
   "source": [
    "def get_year_from_filename(filepath):\n",
    "    head, tail = os.path.split(filepath)\n",
    "    return int(tail.split('.')[0])\n",
    "\n",
    "@task()\n",
    "def get_new_dataset(input_folder, latest_year_available = 1900, stream=True):\n",
    "    '''\n",
    "    Check if there is new data available and <<download>>.\n",
    "    If stream is true, only take the oldest <<new files>> available (e.g., if data for 1995 and 1996 is available,\n",
    "    take only the file for 1995).\n",
    "    '''\n",
    "    assert os.path.exists(input_folder), f\"Input location {input_folder} does not exist.\"\n",
    "    files_list = glob.glob(os.path.join(input_folder, \"*.csv\"))\n",
    "    print(f\"Found {len(files_list)} data files.\")\n",
    "    valid_files = [file for file in files_list if get_year_from_filename(file) > latest_year_available]\n",
    "    valid_files.sort()\n",
    "    print(f\"Found {len(valid_files)} data files newer than {latest_year_available}.\")\n",
    "    if len(valid_files) == 0:\n",
    "        print(\"No new data available.\")\n",
    "        return None\n",
    "    if stream:\n",
    "        valid_files = valid_files[0]\n",
    "        print(f\"Loading only one file: {valid_files}\")\n",
    "    df = pd.concat(map(pd.read_csv, [valid_files]))\n",
    "    print(\"Loaded new data.\")\n",
    "    return df\n",
    "\n",
    "@task()\n",
    "def get_latest_available_data_year(input_folder):\n",
    "    assert os.path.exists(input_folder), f\"Input location {input_folder} does not exist.\"\n",
    "    files_list = glob.glob(os.path.join(input_folder, \"*.csv\"))\n",
    "    if len(files_list) == 0:\n",
    "        return 1900\n",
    "    else:\n",
    "        files_list.sort()\n",
    "        return get_year_from_filename(files_list[-1])\n",
    "\n",
    "@task()    \n",
    "def store_data(df, location):\n",
    "    for year in df['year'].value_counts().index:\n",
    "        df[df['year'] == year].to_csv(os.path.join(location, f'{year}.csv'), index=False)\n",
    "\n",
    "@flow(name=\"main-data-flow\")\n",
    "def main_data_flow(available_data_path, external_data_path):\n",
    "\n",
    "    # Check the available dataset\n",
    "    latest_available_data = get_latest_available_data_year(available_data_path)\n",
    "\n",
    "    # Update dataset        \n",
    "    df_new = get_new_dataset(external_data_path, latest_year_available=latest_available_data)\n",
    "        \n",
    "    if df_new is None:\n",
    "        print(\"No new data.\")\n",
    "    else:\n",
    "        store_data(df_new, location=available_data_path)\n",
    "        print(\"Stored new data.\")"
   ]
  },
  {
   "cell_type": "code",
   "execution_count": 23,
   "id": "57c011c2-1362-498b-9210-790a99e515e9",
   "metadata": {},
   "outputs": [
    {
     "data": {
      "text/html": [
       "<pre style=\"white-space:pre;overflow-x:auto;line-height:normal;font-family:Menlo,'DejaVu Sans Mono',consolas,'Courier New',monospace\">17:55:34.670 | <span style=\"color: #008080; text-decoration-color: #008080\">INFO</span>    | prefect.engine - Created flow run<span style=\"color: #800080; text-decoration-color: #800080\"> 'accomplished-caracal'</span> for flow<span style=\"color: #800080; text-decoration-color: #800080; font-weight: bold\"> 'main-data-flow'</span>\n",
       "</pre>\n"
      ],
      "text/plain": [
       "17:55:34.670 | \u001b[36mINFO\u001b[0m    | prefect.engine - Created flow run\u001b[35m 'accomplished-caracal'\u001b[0m for flow\u001b[1;35m 'main-data-flow'\u001b[0m\n"
      ]
     },
     "metadata": {},
     "output_type": "display_data"
    },
    {
     "data": {
      "text/html": [
       "<pre style=\"white-space:pre;overflow-x:auto;line-height:normal;font-family:Menlo,'DejaVu Sans Mono',consolas,'Courier New',monospace\">17:55:35.068 | <span style=\"color: #008080; text-decoration-color: #008080\">INFO</span>    | Flow run<span style=\"color: #800080; text-decoration-color: #800080\"> 'accomplished-caracal'</span> - Created task run 'get_latest_available_data_year-0' for task 'get_latest_available_data_year'\n",
       "</pre>\n"
      ],
      "text/plain": [
       "17:55:35.068 | \u001b[36mINFO\u001b[0m    | Flow run\u001b[35m 'accomplished-caracal'\u001b[0m - Created task run 'get_latest_available_data_year-0' for task 'get_latest_available_data_year'\n"
      ]
     },
     "metadata": {},
     "output_type": "display_data"
    },
    {
     "data": {
      "text/html": [
       "<pre style=\"white-space:pre;overflow-x:auto;line-height:normal;font-family:Menlo,'DejaVu Sans Mono',consolas,'Courier New',monospace\">17:55:35.073 | <span style=\"color: #008080; text-decoration-color: #008080\">INFO</span>    | Flow run<span style=\"color: #800080; text-decoration-color: #800080\"> 'accomplished-caracal'</span> - Executing 'get_latest_available_data_year-0' immediately...\n",
       "</pre>\n"
      ],
      "text/plain": [
       "17:55:35.073 | \u001b[36mINFO\u001b[0m    | Flow run\u001b[35m 'accomplished-caracal'\u001b[0m - Executing 'get_latest_available_data_year-0' immediately...\n"
      ]
     },
     "metadata": {},
     "output_type": "display_data"
    },
    {
     "data": {
      "text/html": [
       "<pre style=\"white-space:pre;overflow-x:auto;line-height:normal;font-family:Menlo,'DejaVu Sans Mono',consolas,'Courier New',monospace\">17:55:35.359 | <span style=\"color: #008080; text-decoration-color: #008080\">INFO</span>    | Task run 'get_latest_available_data_year-0' - Finished in state <span style=\"color: #008000; text-decoration-color: #008000\">Completed</span>()\n",
       "</pre>\n"
      ],
      "text/plain": [
       "17:55:35.359 | \u001b[36mINFO\u001b[0m    | Task run 'get_latest_available_data_year-0' - Finished in state \u001b[32mCompleted\u001b[0m()\n"
      ]
     },
     "metadata": {},
     "output_type": "display_data"
    },
    {
     "data": {
      "text/html": [
       "<pre style=\"white-space:pre;overflow-x:auto;line-height:normal;font-family:Menlo,'DejaVu Sans Mono',consolas,'Courier New',monospace\">17:55:35.453 | <span style=\"color: #008080; text-decoration-color: #008080\">INFO</span>    | Flow run<span style=\"color: #800080; text-decoration-color: #800080\"> 'accomplished-caracal'</span> - Created task run 'get_new_dataset-0' for task 'get_new_dataset'\n",
       "</pre>\n"
      ],
      "text/plain": [
       "17:55:35.453 | \u001b[36mINFO\u001b[0m    | Flow run\u001b[35m 'accomplished-caracal'\u001b[0m - Created task run 'get_new_dataset-0' for task 'get_new_dataset'\n"
      ]
     },
     "metadata": {},
     "output_type": "display_data"
    },
    {
     "data": {
      "text/html": [
       "<pre style=\"white-space:pre;overflow-x:auto;line-height:normal;font-family:Menlo,'DejaVu Sans Mono',consolas,'Courier New',monospace\">17:55:35.461 | <span style=\"color: #008080; text-decoration-color: #008080\">INFO</span>    | Flow run<span style=\"color: #800080; text-decoration-color: #800080\"> 'accomplished-caracal'</span> - Executing 'get_new_dataset-0' immediately...\n",
       "</pre>\n"
      ],
      "text/plain": [
       "17:55:35.461 | \u001b[36mINFO\u001b[0m    | Flow run\u001b[35m 'accomplished-caracal'\u001b[0m - Executing 'get_new_dataset-0' immediately...\n"
      ]
     },
     "metadata": {},
     "output_type": "display_data"
    },
    {
     "name": "stdout",
     "output_type": "stream",
     "text": [
      "Found 30 data files.\n",
      "Found 30 data files newer than 1900.\n",
      "Loading only one file: ./data/yearly/1970.csv\n",
      "Loaded new data.\n"
     ]
    },
    {
     "data": {
      "text/html": [
       "<pre style=\"white-space:pre;overflow-x:auto;line-height:normal;font-family:Menlo,'DejaVu Sans Mono',consolas,'Courier New',monospace\">17:55:35.987 | <span style=\"color: #008080; text-decoration-color: #008080\">INFO</span>    | Task run 'get_new_dataset-0' - Finished in state <span style=\"color: #008000; text-decoration-color: #008000\">Completed</span>()\n",
       "</pre>\n"
      ],
      "text/plain": [
       "17:55:35.987 | \u001b[36mINFO\u001b[0m    | Task run 'get_new_dataset-0' - Finished in state \u001b[32mCompleted\u001b[0m()\n"
      ]
     },
     "metadata": {},
     "output_type": "display_data"
    },
    {
     "data": {
      "text/html": [
       "<pre style=\"white-space:pre;overflow-x:auto;line-height:normal;font-family:Menlo,'DejaVu Sans Mono',consolas,'Courier New',monospace\">17:55:36.172 | <span style=\"color: #008080; text-decoration-color: #008080\">INFO</span>    | Flow run<span style=\"color: #800080; text-decoration-color: #800080\"> 'accomplished-caracal'</span> - Created task run 'store_data-0' for task 'store_data'\n",
       "</pre>\n"
      ],
      "text/plain": [
       "17:55:36.172 | \u001b[36mINFO\u001b[0m    | Flow run\u001b[35m 'accomplished-caracal'\u001b[0m - Created task run 'store_data-0' for task 'store_data'\n"
      ]
     },
     "metadata": {},
     "output_type": "display_data"
    },
    {
     "data": {
      "text/html": [
       "<pre style=\"white-space:pre;overflow-x:auto;line-height:normal;font-family:Menlo,'DejaVu Sans Mono',consolas,'Courier New',monospace\">17:55:36.180 | <span style=\"color: #008080; text-decoration-color: #008080\">INFO</span>    | Flow run<span style=\"color: #800080; text-decoration-color: #800080\"> 'accomplished-caracal'</span> - Executing 'store_data-0' immediately...\n",
       "</pre>\n"
      ],
      "text/plain": [
       "17:55:36.180 | \u001b[36mINFO\u001b[0m    | Flow run\u001b[35m 'accomplished-caracal'\u001b[0m - Executing 'store_data-0' immediately...\n"
      ]
     },
     "metadata": {},
     "output_type": "display_data"
    },
    {
     "data": {
      "text/html": [
       "<pre style=\"white-space:pre;overflow-x:auto;line-height:normal;font-family:Menlo,'DejaVu Sans Mono',consolas,'Courier New',monospace\">17:55:36.573 | <span style=\"color: #008080; text-decoration-color: #008080\">INFO</span>    | Task run 'store_data-0' - Finished in state <span style=\"color: #008000; text-decoration-color: #008000\">Completed</span>()\n",
       "</pre>\n"
      ],
      "text/plain": [
       "17:55:36.573 | \u001b[36mINFO\u001b[0m    | Task run 'store_data-0' - Finished in state \u001b[32mCompleted\u001b[0m()\n"
      ]
     },
     "metadata": {},
     "output_type": "display_data"
    },
    {
     "name": "stdout",
     "output_type": "stream",
     "text": [
      "Stored new data.\n"
     ]
    },
    {
     "data": {
      "text/html": [
       "<pre style=\"white-space:pre;overflow-x:auto;line-height:normal;font-family:Menlo,'DejaVu Sans Mono',consolas,'Courier New',monospace\">17:55:36.711 | <span style=\"color: #008080; text-decoration-color: #008080\">INFO</span>    | Flow run<span style=\"color: #800080; text-decoration-color: #800080\"> 'accomplished-caracal'</span> - Finished in state <span style=\"color: #008000; text-decoration-color: #008000\">Completed</span>('All states completed.')\n",
       "</pre>\n"
      ],
      "text/plain": [
       "17:55:36.711 | \u001b[36mINFO\u001b[0m    | Flow run\u001b[35m 'accomplished-caracal'\u001b[0m - Finished in state \u001b[32mCompleted\u001b[0m('All states completed.')\n"
      ]
     },
     "metadata": {},
     "output_type": "display_data"
    },
    {
     "data": {
      "text/plain": [
       "[Completed(message=None, type=COMPLETED, result=UnpersistedResult(type='unpersisted', artifact_type='result', artifact_description='Unpersisted result of type `int`')),\n",
       " Completed(message=None, type=COMPLETED, result=UnpersistedResult(type='unpersisted', artifact_type='result', artifact_description='Unpersisted result of type `DataFrame`')),\n",
       " Completed(message=None, type=COMPLETED, result=UnpersistedResult(type='unpersisted', artifact_type='result', artifact_description='Unpersisted result of type `NoneType`'))]"
      ]
     },
     "execution_count": 23,
     "metadata": {},
     "output_type": "execute_result"
    }
   ],
   "source": [
    "main_data_flow(available_data_path = AVAILABLE_DATA_PATH, external_data_path = EXTERNAL_DATA_PATH)"
   ]
  },
  {
   "cell_type": "code",
   "execution_count": null,
   "id": "4b330702-9b45-4c0e-a044-c2ade1a555d4",
   "metadata": {},
   "outputs": [],
   "source": []
  }
 ],
 "metadata": {
  "kernelspec": {
   "display_name": "Python 3 (ipykernel)",
   "language": "python",
   "name": "python3"
  },
  "language_info": {
   "codemirror_mode": {
    "name": "ipython",
    "version": 3
   },
   "file_extension": ".py",
   "mimetype": "text/x-python",
   "name": "python",
   "nbconvert_exporter": "python",
   "pygments_lexer": "ipython3",
   "version": "3.8.17"
  }
 },
 "nbformat": 4,
 "nbformat_minor": 5
}
